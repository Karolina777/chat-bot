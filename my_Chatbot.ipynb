{
 "cells": [
  {
   "cell_type": "code",
   "execution_count": 46,
   "metadata": {
    "collapsed": true
   },
   "outputs": [],
   "source": [
    "import nltk\n",
    "import random\n",
    "import json\n",
    "\n",
    "from sklearn.feature_extraction.text import CountVectorizer"
   ]
  },
  {
   "cell_type": "code",
   "execution_count": 33,
   "outputs": [],
   "source": [
    "# BOT_CONFIG = {\n",
    "#     'intents': {\n",
    "#         'hello': {\n",
    "#             'examples': ['привет!', 'хай!!', 'прив'],\n",
    "#             'responses': ['здравствуйте', 'хэллоу!', 'хей!!1']\n",
    "#         },\n",
    "#         'bye': {\n",
    "#             'examples': ['пока!', 'покеда!!', 'до свиданья'],\n",
    "#             'responses': ['увидимся))', 'до связи', 'Сайонара']\n",
    "#         }\n",
    "#     }\n",
    "# }"
   ],
   "metadata": {
    "collapsed": false,
    "pycharm": {
     "name": "#%%\n"
    }
   }
  },
  {
   "cell_type": "code",
   "execution_count": 34,
   "outputs": [
    {
     "data": {
      "text/plain": "300"
     },
     "execution_count": 34,
     "metadata": {},
     "output_type": "execute_result"
    }
   ],
   "source": [
    "with open('BOT_CONFIG.json', encoding='utf-8') as f:\n",
    "    BOT_CONFIG = json.load(f)\n",
    "\n",
    "len(BOT_CONFIG['intents'].keys())"
   ],
   "metadata": {
    "collapsed": false,
    "pycharm": {
     "name": "#%%\n"
    }
   }
  },
  {
   "cell_type": "code",
   "execution_count": 42,
   "outputs": [
    {
     "data": {
      "text/plain": "(1181, 1181)"
     },
     "execution_count": 42,
     "metadata": {},
     "output_type": "execute_result"
    }
   ],
   "source": [
    "texts = []\n",
    "y = []\n",
    "for intent in BOT_CONFIG['intents'].keys():\n",
    "    for example in BOT_CONFIG['intents'][intent]['examples']:\n",
    "        texts.append(example)\n",
    "        y.append(intent)\n",
    "len(texts), len(y)"
   ],
   "metadata": {
    "collapsed": false,
    "pycharm": {
     "name": "#%%\n"
    }
   }
  },
  {
   "cell_type": "code",
   "execution_count": 43,
   "outputs": [
    {
     "data": {
      "text/plain": "('поговоримомечтах', 'dreams')"
     },
     "execution_count": 43,
     "metadata": {},
     "output_type": "execute_result"
    }
   ],
   "source": [
    "texts[25], y[25]"
   ],
   "metadata": {
    "collapsed": false,
    "pycharm": {
     "name": "#%%\n"
    }
   }
  },
  {
   "cell_type": "code",
   "execution_count": 51,
   "outputs": [
    {
     "data": {
      "text/plain": "955"
     },
     "execution_count": 51,
     "metadata": {},
     "output_type": "execute_result"
    }
   ],
   "source": [
    "# vectorizer = CountVectorizer(ngram_range=(1,3), analyzer='char_wb') #TfidfVectorizer(ngram_range=(1,5), analyzer='char_wb')\n",
    "vectorizer = CountVectorizer()\n",
    "X = vectorizer.fit_transform(texts)\n",
    "\n",
    "vocab = vectorizer.get_feature_names()\n",
    "len(vocab)"
   ],
   "metadata": {
    "collapsed": false,
    "pycharm": {
     "name": "#%%\n"
    }
   }
  },
  {
   "cell_type": "code",
   "execution_count": 35,
   "outputs": [],
   "source": [
    "def clean(text):\n",
    "    clean_text = ''\n",
    "    for ch in text.lower():\n",
    "        if ch in 'абвгдеёжзийклмнопрстуфхцчшщъыьэюя ':\n",
    "            clean_text = clean_text + ch\n",
    "    return clean_text"
   ],
   "metadata": {
    "collapsed": false,
    "pycharm": {
     "name": "#%%\n"
    }
   }
  },
  {
   "cell_type": "code",
   "execution_count": 36,
   "outputs": [],
   "source": [
    "def get_intent(text):\n",
    "  for intent in BOT_CONFIG['intents'].keys():\n",
    "    for example in BOT_CONFIG['intents'][intent]['examples']:\n",
    "      s1 = clean(text)\n",
    "      s2 = clean(example)\n",
    "      if nltk.edit_distance(s1, s2) / max(len(s1), len(s2)) < 0.4:\n",
    "        return intent\n",
    "  return 'интент не найден'\n",
    "\n",
    "#get_intent('хай')"
   ],
   "metadata": {
    "collapsed": false,
    "pycharm": {
     "name": "#%%\n"
    }
   }
  },
  {
   "cell_type": "code",
   "execution_count": 37,
   "outputs": [],
   "source": [
    "def bot(input_text):\n",
    "    intent = get_intent(input_text)\n",
    "    if intent != 'интент не найден':\n",
    "        return random.choice(BOT_CONFIG['intents'][intent]['responses'])\n",
    "    else: return 'интент не найден'"
   ],
   "metadata": {
    "collapsed": false,
    "pycharm": {
     "name": "#%%\n"
    }
   }
  },
  {
   "cell_type": "code",
   "execution_count": 41,
   "outputs": [
    {
     "name": "stdout",
     "output_type": "stream",
     "text": [
      "хэллоу!\n",
      "здравствуйте\n",
      "увидимся))\n",
      "до связи\n",
      "интент не найден\n"
     ]
    },
    {
     "ename": "ZeroDivisionError",
     "evalue": "division by zero",
     "output_type": "error",
     "traceback": [
      "\u001B[1;31m---------------------------------------------------------------------------\u001B[0m",
      "\u001B[1;31mZeroDivisionError\u001B[0m                         Traceback (most recent call last)",
      "\u001B[1;32m<ipython-input-41-3388cf2d4527>\u001B[0m in \u001B[0;36m<module>\u001B[1;34m\u001B[0m\n\u001B[0;32m      4\u001B[0m     \u001B[1;32mif\u001B[0m \u001B[0minput_text\u001B[0m \u001B[1;33m!=\u001B[0m \u001B[1;34m'stop'\u001B[0m\u001B[1;33m:\u001B[0m\u001B[1;33m\u001B[0m\u001B[1;33m\u001B[0m\u001B[0m\n\u001B[0;32m      5\u001B[0m         \u001B[1;31m#response = bot(input_text)\u001B[0m\u001B[1;33m\u001B[0m\u001B[1;33m\u001B[0m\u001B[1;33m\u001B[0m\u001B[0m\n\u001B[1;32m----> 6\u001B[1;33m         \u001B[0mprint\u001B[0m\u001B[1;33m(\u001B[0m\u001B[0mbot\u001B[0m\u001B[1;33m(\u001B[0m\u001B[0minput_text\u001B[0m\u001B[1;33m)\u001B[0m\u001B[1;33m)\u001B[0m\u001B[1;33m\u001B[0m\u001B[1;33m\u001B[0m\u001B[0m\n\u001B[0m",
      "\u001B[1;32m<ipython-input-37-ad799af571c3>\u001B[0m in \u001B[0;36mbot\u001B[1;34m(input_text)\u001B[0m\n\u001B[0;32m      1\u001B[0m \u001B[1;32mdef\u001B[0m \u001B[0mbot\u001B[0m\u001B[1;33m(\u001B[0m\u001B[0minput_text\u001B[0m\u001B[1;33m)\u001B[0m\u001B[1;33m:\u001B[0m\u001B[1;33m\u001B[0m\u001B[1;33m\u001B[0m\u001B[0m\n\u001B[1;32m----> 2\u001B[1;33m     \u001B[0mintent\u001B[0m \u001B[1;33m=\u001B[0m \u001B[0mget_intent\u001B[0m\u001B[1;33m(\u001B[0m\u001B[0minput_text\u001B[0m\u001B[1;33m)\u001B[0m\u001B[1;33m\u001B[0m\u001B[1;33m\u001B[0m\u001B[0m\n\u001B[0m\u001B[0;32m      3\u001B[0m     \u001B[1;32mif\u001B[0m \u001B[0mintent\u001B[0m \u001B[1;33m!=\u001B[0m \u001B[1;34m'интент не найден'\u001B[0m\u001B[1;33m:\u001B[0m\u001B[1;33m\u001B[0m\u001B[1;33m\u001B[0m\u001B[0m\n\u001B[0;32m      4\u001B[0m         \u001B[1;32mreturn\u001B[0m \u001B[0mrandom\u001B[0m\u001B[1;33m.\u001B[0m\u001B[0mchoice\u001B[0m\u001B[1;33m(\u001B[0m\u001B[0mBOT_CONFIG\u001B[0m\u001B[1;33m[\u001B[0m\u001B[1;34m'intents'\u001B[0m\u001B[1;33m]\u001B[0m\u001B[1;33m[\u001B[0m\u001B[0mintent\u001B[0m\u001B[1;33m]\u001B[0m\u001B[1;33m[\u001B[0m\u001B[1;34m'responses'\u001B[0m\u001B[1;33m]\u001B[0m\u001B[1;33m)\u001B[0m\u001B[1;33m\u001B[0m\u001B[1;33m\u001B[0m\u001B[0m\n\u001B[0;32m      5\u001B[0m     \u001B[1;32melse\u001B[0m\u001B[1;33m:\u001B[0m \u001B[1;32mreturn\u001B[0m \u001B[1;34m'интент не найден'\u001B[0m\u001B[1;33m\u001B[0m\u001B[1;33m\u001B[0m\u001B[0m\n",
      "\u001B[1;32m<ipython-input-36-c00df038e204>\u001B[0m in \u001B[0;36mget_intent\u001B[1;34m(text)\u001B[0m\n\u001B[0;32m      4\u001B[0m       \u001B[0ms1\u001B[0m \u001B[1;33m=\u001B[0m \u001B[0mclean\u001B[0m\u001B[1;33m(\u001B[0m\u001B[0mtext\u001B[0m\u001B[1;33m)\u001B[0m\u001B[1;33m\u001B[0m\u001B[1;33m\u001B[0m\u001B[0m\n\u001B[0;32m      5\u001B[0m       \u001B[0ms2\u001B[0m \u001B[1;33m=\u001B[0m \u001B[0mclean\u001B[0m\u001B[1;33m(\u001B[0m\u001B[0mexample\u001B[0m\u001B[1;33m)\u001B[0m\u001B[1;33m\u001B[0m\u001B[1;33m\u001B[0m\u001B[0m\n\u001B[1;32m----> 6\u001B[1;33m       \u001B[1;32mif\u001B[0m \u001B[0mnltk\u001B[0m\u001B[1;33m.\u001B[0m\u001B[0medit_distance\u001B[0m\u001B[1;33m(\u001B[0m\u001B[0ms1\u001B[0m\u001B[1;33m,\u001B[0m \u001B[0ms2\u001B[0m\u001B[1;33m)\u001B[0m \u001B[1;33m/\u001B[0m \u001B[0mmax\u001B[0m\u001B[1;33m(\u001B[0m\u001B[0mlen\u001B[0m\u001B[1;33m(\u001B[0m\u001B[0ms1\u001B[0m\u001B[1;33m)\u001B[0m\u001B[1;33m,\u001B[0m \u001B[0mlen\u001B[0m\u001B[1;33m(\u001B[0m\u001B[0ms2\u001B[0m\u001B[1;33m)\u001B[0m\u001B[1;33m)\u001B[0m \u001B[1;33m<\u001B[0m \u001B[1;36m0.4\u001B[0m\u001B[1;33m:\u001B[0m\u001B[1;33m\u001B[0m\u001B[1;33m\u001B[0m\u001B[0m\n\u001B[0m\u001B[0;32m      7\u001B[0m         \u001B[1;32mreturn\u001B[0m \u001B[0mintent\u001B[0m\u001B[1;33m\u001B[0m\u001B[1;33m\u001B[0m\u001B[0m\n\u001B[0;32m      8\u001B[0m   \u001B[1;32mreturn\u001B[0m \u001B[1;34m'интент не найден'\u001B[0m\u001B[1;33m\u001B[0m\u001B[1;33m\u001B[0m\u001B[0m\n",
      "\u001B[1;31mZeroDivisionError\u001B[0m: division by zero"
     ]
    }
   ],
   "source": [
    "input_text = ''\n",
    "while input_text != 'stop':\n",
    "    input_text = input()\n",
    "    if input_text != 'stop':\n",
    "        #response = bot(input_text)\n",
    "        print(bot(input_text))"
   ],
   "metadata": {
    "collapsed": false,
    "pycharm": {
     "name": "#%%\n"
    }
   }
  },
  {
   "cell_type": "code",
   "execution_count": null,
   "outputs": [],
   "source": [
    "BOT_CONFIG['intents']"
   ],
   "metadata": {
    "collapsed": false,
    "pycharm": {
     "name": "#%%\n"
    }
   }
  }
 ],
 "metadata": {
  "kernelspec": {
   "display_name": "Python 3",
   "language": "python",
   "name": "python3"
  },
  "language_info": {
   "codemirror_mode": {
    "name": "ipython",
    "version": 2
   },
   "file_extension": ".py",
   "mimetype": "text/x-python",
   "name": "python",
   "nbconvert_exporter": "python",
   "pygments_lexer": "ipython2",
   "version": "2.7.6"
  }
 },
 "nbformat": 4,
 "nbformat_minor": 0
}