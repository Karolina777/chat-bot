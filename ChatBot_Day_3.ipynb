{
 "cells": [
  {
   "cell_type": "code",
   "execution_count": 1,
   "metadata": {
    "id": "8p78X8NQgMTe"
   },
   "outputs": [
    {
     "name": "stdout",
     "output_type": "stream",
     "text": [
      "Collecting python-telegram-bot\n",
      "  Downloading python_telegram_bot-13.10-py3-none-any.whl (497 kB)\n",
      "Requirement already satisfied, skipping upgrade: certifi in c:\\users\\karolina\\anaconda3\\lib\\site-packages (from python-telegram-bot) (2020.6.20)\n",
      "Requirement already satisfied, skipping upgrade: pytz>=2018.6 in c:\\users\\karolina\\anaconda3\\lib\\site-packages (from python-telegram-bot) (2020.1)\n",
      "Collecting tornado>=6.1\n",
      "  Downloading tornado-6.1-cp38-cp38-win_amd64.whl (422 kB)\n",
      "Collecting cachetools==4.2.2\n",
      "  Downloading cachetools-4.2.2-py3-none-any.whl (11 kB)\n",
      "Collecting APScheduler==3.6.3\n",
      "  Downloading APScheduler-3.6.3-py2.py3-none-any.whl (58 kB)\n",
      "Requirement already satisfied, skipping upgrade: six>=1.4.0 in c:\\users\\karolina\\anaconda3\\lib\\site-packages (from APScheduler==3.6.3->python-telegram-bot) (1.15.0)\n",
      "Collecting tzlocal>=1.2\n",
      "  Downloading tzlocal-4.1-py3-none-any.whl (19 kB)\n",
      "Requirement already satisfied, skipping upgrade: setuptools>=0.7 in c:\\users\\karolina\\anaconda3\\lib\\site-packages (from APScheduler==3.6.3->python-telegram-bot) (50.3.1.post20201107)\n",
      "Collecting pytz-deprecation-shim\n",
      "  Downloading pytz_deprecation_shim-0.1.0.post0-py2.py3-none-any.whl (15 kB)\n",
      "Collecting backports.zoneinfo; python_version < \"3.9\"\n",
      "  Downloading backports.zoneinfo-0.2.1-cp38-cp38-win_amd64.whl (38 kB)\n",
      "Collecting tzdata; platform_system == \"Windows\"\n",
      "  Downloading tzdata-2021.5-py2.py3-none-any.whl (339 kB)\n",
      "Installing collected packages: tornado, cachetools, backports.zoneinfo, tzdata, pytz-deprecation-shim, tzlocal, APScheduler, python-telegram-bot\n",
      "  Attempting uninstall: tornado\n",
      "    Found existing installation: tornado 6.0.4\n",
      "    Uninstalling tornado-6.0.4:\n",
      "      Successfully uninstalled tornado-6.0.4\n"
     ]
    },
    {
     "name": "stderr",
     "output_type": "stream",
     "text": [
      "ERROR: Could not install packages due to an EnvironmentError: [WinError 5] Access is denied: 'C:\\\\Users\\\\Karolina\\\\anaconda3\\\\Lib\\\\site-packages\\\\~ornado\\\\speedups.cp38-win_amd64.pyd'\n",
      "Consider using the `--user` option or check the permissions.\n",
      "\n"
     ]
    }
   ],
   "source": [
    "!pip install python-telegram-bot --upgrade"
   ]
  },
  {
   "cell_type": "markdown",
   "metadata": {
    "id": "ptdMt3PhgZil"
   },
   "source": [
    "# Дни 1 и 2"
   ]
  },
  {
   "cell_type": "code",
   "execution_count": 12,
   "metadata": {
    "id": "pE8jTkT3bYn0"
   },
   "outputs": [],
   "source": [
    "import random\n",
    "import nltk\n",
    "import json\n",
    "from sklearn.feature_extraction.text import CountVectorizer, TfidfVectorizer\n",
    "from sklearn.linear_model import LogisticRegression\n",
    "from sklearn.ensemble import RandomForestClassifier, AdaBoostClassifier\n",
    "from sklearn.neighbors import KNeighborsClassifier\n",
    "from sklearn.model_selection import train_test_split"
   ]
  },
  {
   "cell_type": "code",
   "execution_count": 13,
   "metadata": {
    "id": "gWVgDP1sSY84"
   },
   "outputs": [],
   "source": [
    "BOT_CONFIG = {\n",
    "    'intents': {\n",
    "        'hello': {\n",
    "            'examples': ['привет!', 'хай!!', 'прив'],\n",
    "            'responses': ['здравствуйте', 'хэллоу!', 'хей!!1']\n",
    "        },\n",
    "        'bye': {\n",
    "            'examples': ['пока!', 'покеда!!', 'до свиданья'],\n",
    "            'responses': ['увидимся))', 'до связи', 'Сайонара']\n",
    "        }\n",
    "    }\n",
    "}"
   ]
  },
  {
   "cell_type": "code",
   "execution_count": 14,
   "metadata": {
    "id": "RtpUwTMkg_7f"
   },
   "outputs": [],
   "source": [
    "def clean(text):\n",
    "  clean_text = ''\n",
    "  for ch in text.lower():\n",
    "    if ch in 'абвгдеёжзийклмнопрстуфхцчшщъыьэюя ':\n",
    "      clean_text = clean_text + ch\n",
    "  return clean_text"
   ]
  },
  {
   "cell_type": "code",
   "execution_count": 16,
   "metadata": {
    "colab": {
     "base_uri": "https://localhost:8080/"
    },
    "id": "VpBTWATcWF6R",
    "outputId": "194271ee-b0e3-4c5c-e20d-03e5224d6624"
   },
   "outputs": [
    {
     "name": "stdout",
     "output_type": "stream",
     "text": [
      "{'intents': {'hello': {'examples': ['привет!', 'хай!!', 'прив'], 'responses': ['здравствуйте', 'хэллоу!', 'хей!!1']}, 'bye': {'examples': ['пока!', 'покеда!!', 'до свиданья'], 'responses': ['увидимся))', 'до связи', 'Сайонара']}}}\n"
     ]
    }
   ],
   "source": [
    "# with open('BOT_CONFIG.json', 'r') as f:\n",
    "#   BOT_CONFIG = json.load(f)\n",
    "print(BOT_CONFIG)\n",
    "#del BOT_CONFIG['intents']['price']\n",
    "#len(BOT_CONFIG['intents'].keys())"
   ]
  },
  {
   "cell_type": "code",
   "execution_count": 17,
   "metadata": {
    "colab": {
     "base_uri": "https://localhost:8080/"
    },
    "id": "BlnJzx01W5Tz",
    "outputId": "69e56006-36d3-48de-8fbb-b42c4b587d37"
   },
   "outputs": [
    {
     "data": {
      "text/plain": "(6, 6)"
     },
     "execution_count": 17,
     "metadata": {},
     "output_type": "execute_result"
    }
   ],
   "source": [
    "texts = []\n",
    "y = []\n",
    "for intent in BOT_CONFIG['intents'].keys():\n",
    "  for example in BOT_CONFIG['intents'][intent]['examples']:\n",
    "    texts.append(example)\n",
    "    y.append(intent)\n",
    "len(texts), len(y)"
   ]
  },
  {
   "cell_type": "code",
   "execution_count": 18,
   "metadata": {
    "id": "7InxFQIobbDm"
   },
   "outputs": [],
   "source": [
    "train_texts, test_texts, y_train, y_test = train_test_split(texts, y, random_state=42, test_size=0.2)"
   ]
  },
  {
   "cell_type": "code",
   "execution_count": 19,
   "metadata": {
    "id": "20Yn6tazXdv6"
   },
   "outputs": [],
   "source": [
    "# vectorizer = CountVectorizer(ngram_range=(1,3), analyzer='char_wb') #TfidfVectorizer(ngram_range=(1,5), analyzer='char_wb')\n",
    "vectorizer = CountVectorizer(ngram_range=(2, 2), min_df=0.1, max_df=0.7, \n",
    "                             max_features=100, analyzer='char_wb') \n",
    "X_train = vectorizer.fit_transform(train_texts)\n",
    "X_test = vectorizer.transform(test_texts)"
   ]
  },
  {
   "cell_type": "code",
   "execution_count": 20,
   "metadata": {
    "colab": {
     "base_uri": "https://localhost:8080/"
    },
    "id": "qLlE7h7vXdss",
    "outputId": "7eb294b3-739a-40e9-8cee-55ae889b2c0f"
   },
   "outputs": [
    {
     "ename": "AttributeError",
     "evalue": "'CountVectorizer' object has no attribute 'get_feature_names_out'",
     "output_type": "error",
     "traceback": [
      "\u001B[1;31m---------------------------------------------------------------------------\u001B[0m",
      "\u001B[1;31mAttributeError\u001B[0m                            Traceback (most recent call last)",
      "\u001B[1;32m<ipython-input-20-f448da5565f5>\u001B[0m in \u001B[0;36m<module>\u001B[1;34m\u001B[0m\n\u001B[1;32m----> 1\u001B[1;33m \u001B[0mvocab\u001B[0m \u001B[1;33m=\u001B[0m \u001B[0mvectorizer\u001B[0m\u001B[1;33m.\u001B[0m\u001B[0mget_feature_names_out\u001B[0m\u001B[1;33m(\u001B[0m\u001B[1;33m)\u001B[0m\u001B[1;33m\u001B[0m\u001B[1;33m\u001B[0m\u001B[0m\n\u001B[0m\u001B[0;32m      2\u001B[0m \u001B[0mlen\u001B[0m\u001B[1;33m(\u001B[0m\u001B[0mvocab\u001B[0m\u001B[1;33m)\u001B[0m\u001B[1;33m\u001B[0m\u001B[1;33m\u001B[0m\u001B[0m\n",
      "\u001B[1;31mAttributeError\u001B[0m: 'CountVectorizer' object has no attribute 'get_feature_names_out'"
     ]
    }
   ],
   "source": [
    "vocab = vectorizer.get_feature_names_out()\n",
    "len(vocab)"
   ]
  },
  {
   "cell_type": "code",
   "execution_count": null,
   "metadata": {
    "colab": {
     "base_uri": "https://localhost:8080/"
    },
    "id": "Buzokc7_YsYV",
    "outputId": "406b9018-376f-47e9-a98d-156f51c62916"
   },
   "outputs": [
    {
     "data": {
      "text/plain": [
       "(0.6556503198294243, 0.0425531914893617)"
      ]
     },
     "execution_count": 25,
     "metadata": {},
     "output_type": "execute_result"
    }
   ],
   "source": [
    "# clf = RandomForestClassifier(n_estimators=300) #LogisticRegression().fit(X_train, y_train)\n",
    "# clf = AdaBoostClassifier(n_estimators=5000, random_state=0)\n",
    "clf = KNeighborsClassifier(n_neighbors=1, weights = 'distance', \n",
    "                           algorithm='brute', leaf_size=30, p=1, \n",
    "                           metric='minkowski', metric_params=None, n_jobs=-1)\n",
    "clf.fit(X_train, y_train)\n",
    "clf.score(X_train, y_train), clf.score(X_test, y_test) #LogisticRegression: 0.14893617021276595, RandomForestClassifier: 0.19574468085106383"
   ]
  },
  {
   "cell_type": "code",
   "execution_count": null,
   "metadata": {
    "id": "kLubwTWAYsVG"
   },
   "outputs": [],
   "source": [
    "# clf.predict(vectorizer.transform(['привет!']))"
   ]
  },
  {
   "cell_type": "code",
   "execution_count": null,
   "metadata": {
    "id": "V413ihNiZA-f"
   },
   "outputs": [],
   "source": [
    "# def get_intent(text):\n",
    "#   for intent in BOT_CONFIG['intents'].keys():\n",
    "#     for example in BOT_CONFIG['intents'][intent]['examples']:\n",
    "#       s1 = clean(text)\n",
    "#       s2 = clean(example)\n",
    "#       if nltk.edit_distance(s1, s2) / max(len(s1), len(s2)) < 0.4:\n",
    "#         return intent\n",
    "#   return 'интент не найден'\n",
    "\n",
    "def get_intent_by_model(text):\n",
    "  return clf.predict(vectorizer.transform([text]))[0]\n",
    "\n",
    "def bot(input_text):\n",
    "  intent = get_intent_by_model(input_text)\n",
    "  return random.choice(BOT_CONFIG['intents'][intent]['responses'])"
   ]
  },
  {
   "cell_type": "code",
   "execution_count": null,
   "metadata": {
    "colab": {
     "base_uri": "https://localhost:8080/"
    },
    "id": "giN0MoZ2Z6o6",
    "outputId": "e0b566da-2ef4-4f43-dca8-ff62d67d50df"
   },
   "outputs": [
    {
     "name": "stdout",
     "output_type": "stream",
     "text": [
      "stop\n"
     ]
    }
   ],
   "source": [
    "input_text = ''\n",
    "while input_text != 'stop':\n",
    "  input_text = input()\n",
    "  if input_text != 'stop':\n",
    "    response = bot(input_text)\n",
    "    print(response)"
   ]
  },
  {
   "cell_type": "markdown",
   "metadata": {
    "id": "LKlb0XINgVn5"
   },
   "source": [
    "# День 3"
   ]
  },
  {
   "cell_type": "code",
   "execution_count": null,
   "metadata": {
    "colab": {
     "background_save": true,
     "base_uri": "https://localhost:8080/"
    },
    "id": "kXZTcE3qgRFN",
    "outputId": "e874f56b-5c31-411b-cf22-cf8abc75603b"
   },
   "outputs": [
    {
     "name": "stderr",
     "output_type": "stream",
     "text": [
      "2022-01-12 18:48:08,296 - apscheduler.scheduler - INFO - Scheduler started\n",
      "2022-01-12 19:00:57,502 - telegram.ext.updater - ERROR - Error while getting Updates: Conflict: terminated by other getUpdates request; make sure that only one bot instance is running\n",
      "2022-01-12 19:00:57,505 - telegram.ext.dispatcher - ERROR - No error handlers are registered, logging exception.\n",
      "Traceback (most recent call last):\n",
      "  File \"/usr/local/lib/python3.7/dist-packages/telegram/ext/updater.py\", line 646, in _network_loop_retry\n",
      "    if not action_cb():\n",
      "  File \"/usr/local/lib/python3.7/dist-packages/telegram/ext/updater.py\", line 601, in polling_action_cb\n",
      "    allowed_updates=allowed_updates,\n",
      "  File \"/usr/local/lib/python3.7/dist-packages/telegram/ext/extbot.py\", line 230, in get_updates\n",
      "    api_kwargs=api_kwargs,\n",
      "  File \"/usr/local/lib/python3.7/dist-packages/telegram/bot.py\", line 130, in decorator\n",
      "    result = func(*args, **kwargs)\n",
      "  File \"/usr/local/lib/python3.7/dist-packages/telegram/bot.py\", line 3058, in get_updates\n",
      "    api_kwargs=api_kwargs,\n",
      "  File \"/usr/local/lib/python3.7/dist-packages/telegram/bot.py\", line 296, in _post\n",
      "    f'{self.base_url}/{endpoint}', data=data, timeout=effective_timeout\n",
      "  File \"/usr/local/lib/python3.7/dist-packages/telegram/utils/request.py\", line 366, in post\n",
      "    **urlopen_kwargs,\n",
      "  File \"/usr/local/lib/python3.7/dist-packages/telegram/utils/request.py\", line 283, in _request_wrapper\n",
      "    raise Conflict(message)\n",
      "telegram.error.Conflict: Conflict: terminated by other getUpdates request; make sure that only one bot instance is running\n",
      "2022-01-12 19:01:02,821 - telegram.ext.updater - ERROR - Error while getting Updates: Conflict: terminated by other getUpdates request; make sure that only one bot instance is running\n",
      "2022-01-12 19:01:02,823 - telegram.ext.dispatcher - ERROR - No error handlers are registered, logging exception.\n",
      "Traceback (most recent call last):\n",
      "  File \"/usr/local/lib/python3.7/dist-packages/telegram/ext/updater.py\", line 646, in _network_loop_retry\n",
      "    if not action_cb():\n",
      "  File \"/usr/local/lib/python3.7/dist-packages/telegram/ext/updater.py\", line 601, in polling_action_cb\n",
      "    allowed_updates=allowed_updates,\n",
      "  File \"/usr/local/lib/python3.7/dist-packages/telegram/ext/extbot.py\", line 230, in get_updates\n",
      "    api_kwargs=api_kwargs,\n",
      "  File \"/usr/local/lib/python3.7/dist-packages/telegram/bot.py\", line 130, in decorator\n",
      "    result = func(*args, **kwargs)\n",
      "  File \"/usr/local/lib/python3.7/dist-packages/telegram/bot.py\", line 3058, in get_updates\n",
      "    api_kwargs=api_kwargs,\n",
      "  File \"/usr/local/lib/python3.7/dist-packages/telegram/bot.py\", line 296, in _post\n",
      "    f'{self.base_url}/{endpoint}', data=data, timeout=effective_timeout\n",
      "  File \"/usr/local/lib/python3.7/dist-packages/telegram/utils/request.py\", line 366, in post\n",
      "    **urlopen_kwargs,\n",
      "  File \"/usr/local/lib/python3.7/dist-packages/telegram/utils/request.py\", line 283, in _request_wrapper\n",
      "    raise Conflict(message)\n",
      "telegram.error.Conflict: Conflict: terminated by other getUpdates request; make sure that only one bot instance is running\n",
      "2022-01-12 19:01:09,224 - telegram.ext.updater - ERROR - Error while getting Updates: Conflict: terminated by other getUpdates request; make sure that only one bot instance is running\n",
      "2022-01-12 19:01:09,225 - telegram.ext.dispatcher - ERROR - No error handlers are registered, logging exception.\n",
      "Traceback (most recent call last):\n",
      "  File \"/usr/local/lib/python3.7/dist-packages/telegram/ext/updater.py\", line 646, in _network_loop_retry\n",
      "    if not action_cb():\n",
      "  File \"/usr/local/lib/python3.7/dist-packages/telegram/ext/updater.py\", line 601, in polling_action_cb\n",
      "    allowed_updates=allowed_updates,\n",
      "  File \"/usr/local/lib/python3.7/dist-packages/telegram/ext/extbot.py\", line 230, in get_updates\n",
      "    api_kwargs=api_kwargs,\n",
      "  File \"/usr/local/lib/python3.7/dist-packages/telegram/bot.py\", line 130, in decorator\n",
      "    result = func(*args, **kwargs)\n",
      "  File \"/usr/local/lib/python3.7/dist-packages/telegram/bot.py\", line 3058, in get_updates\n",
      "    api_kwargs=api_kwargs,\n",
      "  File \"/usr/local/lib/python3.7/dist-packages/telegram/bot.py\", line 296, in _post\n",
      "    f'{self.base_url}/{endpoint}', data=data, timeout=effective_timeout\n",
      "  File \"/usr/local/lib/python3.7/dist-packages/telegram/utils/request.py\", line 366, in post\n",
      "    **urlopen_kwargs,\n",
      "  File \"/usr/local/lib/python3.7/dist-packages/telegram/utils/request.py\", line 283, in _request_wrapper\n",
      "    raise Conflict(message)\n",
      "telegram.error.Conflict: Conflict: terminated by other getUpdates request; make sure that only one bot instance is running\n",
      "2022-01-12 19:01:17,049 - telegram.ext.updater - ERROR - Error while getting Updates: Conflict: terminated by other getUpdates request; make sure that only one bot instance is running\n",
      "2022-01-12 19:01:17,051 - telegram.ext.dispatcher - ERROR - No error handlers are registered, logging exception.\n",
      "Traceback (most recent call last):\n",
      "  File \"/usr/local/lib/python3.7/dist-packages/telegram/ext/updater.py\", line 646, in _network_loop_retry\n",
      "    if not action_cb():\n",
      "  File \"/usr/local/lib/python3.7/dist-packages/telegram/ext/updater.py\", line 601, in polling_action_cb\n",
      "    allowed_updates=allowed_updates,\n",
      "  File \"/usr/local/lib/python3.7/dist-packages/telegram/ext/extbot.py\", line 230, in get_updates\n",
      "    api_kwargs=api_kwargs,\n",
      "  File \"/usr/local/lib/python3.7/dist-packages/telegram/bot.py\", line 130, in decorator\n",
      "    result = func(*args, **kwargs)\n",
      "  File \"/usr/local/lib/python3.7/dist-packages/telegram/bot.py\", line 3058, in get_updates\n",
      "    api_kwargs=api_kwargs,\n",
      "  File \"/usr/local/lib/python3.7/dist-packages/telegram/bot.py\", line 296, in _post\n",
      "    f'{self.base_url}/{endpoint}', data=data, timeout=effective_timeout\n",
      "  File \"/usr/local/lib/python3.7/dist-packages/telegram/utils/request.py\", line 366, in post\n",
      "    **urlopen_kwargs,\n",
      "  File \"/usr/local/lib/python3.7/dist-packages/telegram/utils/request.py\", line 283, in _request_wrapper\n",
      "    raise Conflict(message)\n",
      "telegram.error.Conflict: Conflict: terminated by other getUpdates request; make sure that only one bot instance is running\n",
      "2022-01-12 19:01:24,123 - telegram.ext.updater - ERROR - Error while getting Updates: Conflict: terminated by other getUpdates request; make sure that only one bot instance is running\n",
      "2022-01-12 19:01:24,125 - telegram.ext.dispatcher - ERROR - No error handlers are registered, logging exception.\n",
      "Traceback (most recent call last):\n",
      "  File \"/usr/local/lib/python3.7/dist-packages/telegram/ext/updater.py\", line 646, in _network_loop_retry\n",
      "    if not action_cb():\n",
      "  File \"/usr/local/lib/python3.7/dist-packages/telegram/ext/updater.py\", line 601, in polling_action_cb\n",
      "    allowed_updates=allowed_updates,\n",
      "  File \"/usr/local/lib/python3.7/dist-packages/telegram/ext/extbot.py\", line 230, in get_updates\n",
      "    api_kwargs=api_kwargs,\n",
      "  File \"/usr/local/lib/python3.7/dist-packages/telegram/bot.py\", line 130, in decorator\n",
      "    result = func(*args, **kwargs)\n",
      "  File \"/usr/local/lib/python3.7/dist-packages/telegram/bot.py\", line 3058, in get_updates\n",
      "    api_kwargs=api_kwargs,\n",
      "  File \"/usr/local/lib/python3.7/dist-packages/telegram/bot.py\", line 296, in _post\n",
      "    f'{self.base_url}/{endpoint}', data=data, timeout=effective_timeout\n",
      "  File \"/usr/local/lib/python3.7/dist-packages/telegram/utils/request.py\", line 366, in post\n",
      "    **urlopen_kwargs,\n",
      "  File \"/usr/local/lib/python3.7/dist-packages/telegram/utils/request.py\", line 283, in _request_wrapper\n",
      "    raise Conflict(message)\n",
      "telegram.error.Conflict: Conflict: terminated by other getUpdates request; make sure that only one bot instance is running\n",
      "2022-01-12 19:01:34,581 - telegram.ext.updater - ERROR - Error while getting Updates: Conflict: terminated by other getUpdates request; make sure that only one bot instance is running\n",
      "2022-01-12 19:01:34,583 - telegram.ext.dispatcher - ERROR - No error handlers are registered, logging exception.\n",
      "Traceback (most recent call last):\n",
      "  File \"/usr/local/lib/python3.7/dist-packages/telegram/ext/updater.py\", line 646, in _network_loop_retry\n",
      "    if not action_cb():\n",
      "  File \"/usr/local/lib/python3.7/dist-packages/telegram/ext/updater.py\", line 601, in polling_action_cb\n",
      "    allowed_updates=allowed_updates,\n",
      "  File \"/usr/local/lib/python3.7/dist-packages/telegram/ext/extbot.py\", line 230, in get_updates\n",
      "    api_kwargs=api_kwargs,\n",
      "  File \"/usr/local/lib/python3.7/dist-packages/telegram/bot.py\", line 130, in decorator\n",
      "    result = func(*args, **kwargs)\n",
      "  File \"/usr/local/lib/python3.7/dist-packages/telegram/bot.py\", line 3058, in get_updates\n",
      "    api_kwargs=api_kwargs,\n",
      "  File \"/usr/local/lib/python3.7/dist-packages/telegram/bot.py\", line 296, in _post\n",
      "    f'{self.base_url}/{endpoint}', data=data, timeout=effective_timeout\n",
      "  File \"/usr/local/lib/python3.7/dist-packages/telegram/utils/request.py\", line 366, in post\n",
      "    **urlopen_kwargs,\n",
      "  File \"/usr/local/lib/python3.7/dist-packages/telegram/utils/request.py\", line 283, in _request_wrapper\n",
      "    raise Conflict(message)\n",
      "telegram.error.Conflict: Conflict: terminated by other getUpdates request; make sure that only one bot instance is running\n",
      "2022-01-12 19:01:50,098 - telegram.ext.updater - ERROR - Error while getting Updates: Conflict: terminated by other getUpdates request; make sure that only one bot instance is running\n",
      "2022-01-12 19:01:50,101 - telegram.ext.dispatcher - ERROR - No error handlers are registered, logging exception.\n",
      "Traceback (most recent call last):\n",
      "  File \"/usr/local/lib/python3.7/dist-packages/telegram/ext/updater.py\", line 646, in _network_loop_retry\n",
      "    if not action_cb():\n",
      "  File \"/usr/local/lib/python3.7/dist-packages/telegram/ext/updater.py\", line 601, in polling_action_cb\n",
      "    allowed_updates=allowed_updates,\n",
      "  File \"/usr/local/lib/python3.7/dist-packages/telegram/ext/extbot.py\", line 230, in get_updates\n",
      "    api_kwargs=api_kwargs,\n",
      "  File \"/usr/local/lib/python3.7/dist-packages/telegram/bot.py\", line 130, in decorator\n",
      "    result = func(*args, **kwargs)\n",
      "  File \"/usr/local/lib/python3.7/dist-packages/telegram/bot.py\", line 3058, in get_updates\n",
      "    api_kwargs=api_kwargs,\n",
      "  File \"/usr/local/lib/python3.7/dist-packages/telegram/bot.py\", line 296, in _post\n",
      "    f'{self.base_url}/{endpoint}', data=data, timeout=effective_timeout\n",
      "  File \"/usr/local/lib/python3.7/dist-packages/telegram/utils/request.py\", line 366, in post\n",
      "    **urlopen_kwargs,\n",
      "  File \"/usr/local/lib/python3.7/dist-packages/telegram/utils/request.py\", line 283, in _request_wrapper\n",
      "    raise Conflict(message)\n",
      "telegram.error.Conflict: Conflict: terminated by other getUpdates request; make sure that only one bot instance is running\n",
      "2022-01-12 19:02:05,815 - telegram.ext.updater - ERROR - Error while getting Updates: Conflict: terminated by other getUpdates request; make sure that only one bot instance is running\n",
      "2022-01-12 19:02:05,817 - telegram.ext.dispatcher - ERROR - No error handlers are registered, logging exception.\n",
      "Traceback (most recent call last):\n",
      "  File \"/usr/local/lib/python3.7/dist-packages/telegram/ext/updater.py\", line 646, in _network_loop_retry\n",
      "    if not action_cb():\n",
      "  File \"/usr/local/lib/python3.7/dist-packages/telegram/ext/updater.py\", line 601, in polling_action_cb\n",
      "    allowed_updates=allowed_updates,\n",
      "  File \"/usr/local/lib/python3.7/dist-packages/telegram/ext/extbot.py\", line 230, in get_updates\n",
      "    api_kwargs=api_kwargs,\n",
      "  File \"/usr/local/lib/python3.7/dist-packages/telegram/bot.py\", line 130, in decorator\n",
      "    result = func(*args, **kwargs)\n",
      "  File \"/usr/local/lib/python3.7/dist-packages/telegram/bot.py\", line 3058, in get_updates\n",
      "    api_kwargs=api_kwargs,\n",
      "  File \"/usr/local/lib/python3.7/dist-packages/telegram/bot.py\", line 296, in _post\n",
      "    f'{self.base_url}/{endpoint}', data=data, timeout=effective_timeout\n",
      "  File \"/usr/local/lib/python3.7/dist-packages/telegram/utils/request.py\", line 366, in post\n",
      "    **urlopen_kwargs,\n",
      "  File \"/usr/local/lib/python3.7/dist-packages/telegram/utils/request.py\", line 283, in _request_wrapper\n",
      "    raise Conflict(message)\n",
      "telegram.error.Conflict: Conflict: terminated by other getUpdates request; make sure that only one bot instance is running\n",
      "2022-01-12 19:02:27,287 - telegram.ext.updater - ERROR - Error while getting Updates: Conflict: terminated by other getUpdates request; make sure that only one bot instance is running\n",
      "2022-01-12 19:02:27,289 - telegram.ext.dispatcher - ERROR - No error handlers are registered, logging exception.\n",
      "Traceback (most recent call last):\n",
      "  File \"/usr/local/lib/python3.7/dist-packages/telegram/ext/updater.py\", line 646, in _network_loop_retry\n",
      "    if not action_cb():\n",
      "  File \"/usr/local/lib/python3.7/dist-packages/telegram/ext/updater.py\", line 601, in polling_action_cb\n",
      "    allowed_updates=allowed_updates,\n",
      "  File \"/usr/local/lib/python3.7/dist-packages/telegram/ext/extbot.py\", line 230, in get_updates\n",
      "    api_kwargs=api_kwargs,\n",
      "  File \"/usr/local/lib/python3.7/dist-packages/telegram/bot.py\", line 130, in decorator\n",
      "    result = func(*args, **kwargs)\n",
      "  File \"/usr/local/lib/python3.7/dist-packages/telegram/bot.py\", line 3058, in get_updates\n",
      "    api_kwargs=api_kwargs,\n",
      "  File \"/usr/local/lib/python3.7/dist-packages/telegram/bot.py\", line 296, in _post\n",
      "    f'{self.base_url}/{endpoint}', data=data, timeout=effective_timeout\n",
      "  File \"/usr/local/lib/python3.7/dist-packages/telegram/utils/request.py\", line 366, in post\n",
      "    **urlopen_kwargs,\n",
      "  File \"/usr/local/lib/python3.7/dist-packages/telegram/utils/request.py\", line 283, in _request_wrapper\n",
      "    raise Conflict(message)\n",
      "telegram.error.Conflict: Conflict: terminated by other getUpdates request; make sure that only one bot instance is running\n",
      "2022-01-12 19:02:57,243 - telegram.ext.updater - ERROR - Error while getting Updates: Conflict: terminated by other getUpdates request; make sure that only one bot instance is running\n",
      "2022-01-12 19:02:57,245 - telegram.ext.dispatcher - ERROR - No error handlers are registered, logging exception.\n",
      "Traceback (most recent call last):\n",
      "  File \"/usr/local/lib/python3.7/dist-packages/telegram/ext/updater.py\", line 646, in _network_loop_retry\n",
      "    if not action_cb():\n",
      "  File \"/usr/local/lib/python3.7/dist-packages/telegram/ext/updater.py\", line 601, in polling_action_cb\n",
      "    allowed_updates=allowed_updates,\n",
      "  File \"/usr/local/lib/python3.7/dist-packages/telegram/ext/extbot.py\", line 230, in get_updates\n",
      "    api_kwargs=api_kwargs,\n",
      "  File \"/usr/local/lib/python3.7/dist-packages/telegram/bot.py\", line 130, in decorator\n",
      "    result = func(*args, **kwargs)\n",
      "  File \"/usr/local/lib/python3.7/dist-packages/telegram/bot.py\", line 3058, in get_updates\n",
      "    api_kwargs=api_kwargs,\n",
      "  File \"/usr/local/lib/python3.7/dist-packages/telegram/bot.py\", line 296, in _post\n",
      "    f'{self.base_url}/{endpoint}', data=data, timeout=effective_timeout\n",
      "  File \"/usr/local/lib/python3.7/dist-packages/telegram/utils/request.py\", line 366, in post\n",
      "    **urlopen_kwargs,\n",
      "  File \"/usr/local/lib/python3.7/dist-packages/telegram/utils/request.py\", line 283, in _request_wrapper\n",
      "    raise Conflict(message)\n",
      "telegram.error.Conflict: Conflict: terminated by other getUpdates request; make sure that only one bot instance is running\n",
      "2022-01-12 19:03:40,030 - telegram.ext.updater - ERROR - Error while getting Updates: Conflict: terminated by other getUpdates request; make sure that only one bot instance is running\n",
      "2022-01-12 19:03:40,032 - telegram.ext.dispatcher - ERROR - No error handlers are registered, logging exception.\n",
      "Traceback (most recent call last):\n",
      "  File \"/usr/local/lib/python3.7/dist-packages/telegram/ext/updater.py\", line 646, in _network_loop_retry\n",
      "    if not action_cb():\n",
      "  File \"/usr/local/lib/python3.7/dist-packages/telegram/ext/updater.py\", line 601, in polling_action_cb\n",
      "    allowed_updates=allowed_updates,\n",
      "  File \"/usr/local/lib/python3.7/dist-packages/telegram/ext/extbot.py\", line 230, in get_updates\n",
      "    api_kwargs=api_kwargs,\n",
      "  File \"/usr/local/lib/python3.7/dist-packages/telegram/bot.py\", line 130, in decorator\n",
      "    result = func(*args, **kwargs)\n",
      "  File \"/usr/local/lib/python3.7/dist-packages/telegram/bot.py\", line 3058, in get_updates\n",
      "    api_kwargs=api_kwargs,\n",
      "  File \"/usr/local/lib/python3.7/dist-packages/telegram/bot.py\", line 296, in _post\n",
      "    f'{self.base_url}/{endpoint}', data=data, timeout=effective_timeout\n",
      "  File \"/usr/local/lib/python3.7/dist-packages/telegram/utils/request.py\", line 366, in post\n",
      "    **urlopen_kwargs,\n",
      "  File \"/usr/local/lib/python3.7/dist-packages/telegram/utils/request.py\", line 283, in _request_wrapper\n",
      "    raise Conflict(message)\n",
      "telegram.error.Conflict: Conflict: terminated by other getUpdates request; make sure that only one bot instance is running\n",
      "2022-01-12 19:04:14,356 - telegram.ext.updater - ERROR - Error while getting Updates: Conflict: terminated by other getUpdates request; make sure that only one bot instance is running\n",
      "2022-01-12 19:04:14,358 - telegram.ext.dispatcher - ERROR - No error handlers are registered, logging exception.\n",
      "Traceback (most recent call last):\n",
      "  File \"/usr/local/lib/python3.7/dist-packages/telegram/ext/updater.py\", line 646, in _network_loop_retry\n",
      "    if not action_cb():\n",
      "  File \"/usr/local/lib/python3.7/dist-packages/telegram/ext/updater.py\", line 601, in polling_action_cb\n",
      "    allowed_updates=allowed_updates,\n",
      "  File \"/usr/local/lib/python3.7/dist-packages/telegram/ext/extbot.py\", line 230, in get_updates\n",
      "    api_kwargs=api_kwargs,\n",
      "  File \"/usr/local/lib/python3.7/dist-packages/telegram/bot.py\", line 130, in decorator\n",
      "    result = func(*args, **kwargs)\n",
      "  File \"/usr/local/lib/python3.7/dist-packages/telegram/bot.py\", line 3058, in get_updates\n",
      "    api_kwargs=api_kwargs,\n",
      "  File \"/usr/local/lib/python3.7/dist-packages/telegram/bot.py\", line 296, in _post\n",
      "    f'{self.base_url}/{endpoint}', data=data, timeout=effective_timeout\n",
      "  File \"/usr/local/lib/python3.7/dist-packages/telegram/utils/request.py\", line 366, in post\n",
      "    **urlopen_kwargs,\n",
      "  File \"/usr/local/lib/python3.7/dist-packages/telegram/utils/request.py\", line 283, in _request_wrapper\n",
      "    raise Conflict(message)\n",
      "telegram.error.Conflict: Conflict: terminated by other getUpdates request; make sure that only one bot instance is running\n",
      "2022-01-12 19:04:48,687 - telegram.ext.updater - ERROR - Error while getting Updates: Conflict: terminated by other getUpdates request; make sure that only one bot instance is running\n",
      "2022-01-12 19:04:48,689 - telegram.ext.dispatcher - ERROR - No error handlers are registered, logging exception.\n",
      "Traceback (most recent call last):\n",
      "  File \"/usr/local/lib/python3.7/dist-packages/telegram/ext/updater.py\", line 646, in _network_loop_retry\n",
      "    if not action_cb():\n",
      "  File \"/usr/local/lib/python3.7/dist-packages/telegram/ext/updater.py\", line 601, in polling_action_cb\n",
      "    allowed_updates=allowed_updates,\n",
      "  File \"/usr/local/lib/python3.7/dist-packages/telegram/ext/extbot.py\", line 230, in get_updates\n",
      "    api_kwargs=api_kwargs,\n",
      "  File \"/usr/local/lib/python3.7/dist-packages/telegram/bot.py\", line 130, in decorator\n",
      "    result = func(*args, **kwargs)\n",
      "  File \"/usr/local/lib/python3.7/dist-packages/telegram/bot.py\", line 3058, in get_updates\n",
      "    api_kwargs=api_kwargs,\n",
      "  File \"/usr/local/lib/python3.7/dist-packages/telegram/bot.py\", line 296, in _post\n",
      "    f'{self.base_url}/{endpoint}', data=data, timeout=effective_timeout\n",
      "  File \"/usr/local/lib/python3.7/dist-packages/telegram/utils/request.py\", line 366, in post\n",
      "    **urlopen_kwargs,\n",
      "  File \"/usr/local/lib/python3.7/dist-packages/telegram/utils/request.py\", line 283, in _request_wrapper\n",
      "    raise Conflict(message)\n",
      "telegram.error.Conflict: Conflict: terminated by other getUpdates request; make sure that only one bot instance is running\n",
      "2022-01-12 19:05:23,014 - telegram.ext.updater - ERROR - Error while getting Updates: Conflict: terminated by other getUpdates request; make sure that only one bot instance is running\n",
      "2022-01-12 19:05:23,016 - telegram.ext.dispatcher - ERROR - No error handlers are registered, logging exception.\n",
      "Traceback (most recent call last):\n",
      "  File \"/usr/local/lib/python3.7/dist-packages/telegram/ext/updater.py\", line 646, in _network_loop_retry\n",
      "    if not action_cb():\n",
      "  File \"/usr/local/lib/python3.7/dist-packages/telegram/ext/updater.py\", line 601, in polling_action_cb\n",
      "    allowed_updates=allowed_updates,\n",
      "  File \"/usr/local/lib/python3.7/dist-packages/telegram/ext/extbot.py\", line 230, in get_updates\n",
      "    api_kwargs=api_kwargs,\n",
      "  File \"/usr/local/lib/python3.7/dist-packages/telegram/bot.py\", line 130, in decorator\n",
      "    result = func(*args, **kwargs)\n",
      "  File \"/usr/local/lib/python3.7/dist-packages/telegram/bot.py\", line 3058, in get_updates\n",
      "    api_kwargs=api_kwargs,\n",
      "  File \"/usr/local/lib/python3.7/dist-packages/telegram/bot.py\", line 296, in _post\n",
      "    f'{self.base_url}/{endpoint}', data=data, timeout=effective_timeout\n",
      "  File \"/usr/local/lib/python3.7/dist-packages/telegram/utils/request.py\", line 366, in post\n",
      "    **urlopen_kwargs,\n",
      "  File \"/usr/local/lib/python3.7/dist-packages/telegram/utils/request.py\", line 283, in _request_wrapper\n",
      "    raise Conflict(message)\n",
      "telegram.error.Conflict: Conflict: terminated by other getUpdates request; make sure that only one bot instance is running\n",
      "2022-01-12 19:05:57,351 - telegram.ext.updater - ERROR - Error while getting Updates: Conflict: terminated by other getUpdates request; make sure that only one bot instance is running\n",
      "2022-01-12 19:05:57,353 - telegram.ext.dispatcher - ERROR - No error handlers are registered, logging exception.\n",
      "Traceback (most recent call last):\n",
      "  File \"/usr/local/lib/python3.7/dist-packages/telegram/ext/updater.py\", line 646, in _network_loop_retry\n",
      "    if not action_cb():\n",
      "  File \"/usr/local/lib/python3.7/dist-packages/telegram/ext/updater.py\", line 601, in polling_action_cb\n",
      "    allowed_updates=allowed_updates,\n",
      "  File \"/usr/local/lib/python3.7/dist-packages/telegram/ext/extbot.py\", line 230, in get_updates\n",
      "    api_kwargs=api_kwargs,\n",
      "  File \"/usr/local/lib/python3.7/dist-packages/telegram/bot.py\", line 130, in decorator\n",
      "    result = func(*args, **kwargs)\n",
      "  File \"/usr/local/lib/python3.7/dist-packages/telegram/bot.py\", line 3058, in get_updates\n",
      "    api_kwargs=api_kwargs,\n",
      "  File \"/usr/local/lib/python3.7/dist-packages/telegram/bot.py\", line 296, in _post\n",
      "    f'{self.base_url}/{endpoint}', data=data, timeout=effective_timeout\n",
      "  File \"/usr/local/lib/python3.7/dist-packages/telegram/utils/request.py\", line 366, in post\n",
      "    **urlopen_kwargs,\n",
      "  File \"/usr/local/lib/python3.7/dist-packages/telegram/utils/request.py\", line 283, in _request_wrapper\n",
      "    raise Conflict(message)\n",
      "telegram.error.Conflict: Conflict: terminated by other getUpdates request; make sure that only one bot instance is running\n",
      "2022-01-12 19:06:31,679 - telegram.ext.updater - ERROR - Error while getting Updates: Conflict: terminated by other getUpdates request; make sure that only one bot instance is running\n",
      "2022-01-12 19:06:31,682 - telegram.ext.dispatcher - ERROR - No error handlers are registered, logging exception.\n",
      "Traceback (most recent call last):\n",
      "  File \"/usr/local/lib/python3.7/dist-packages/telegram/ext/updater.py\", line 646, in _network_loop_retry\n",
      "    if not action_cb():\n",
      "  File \"/usr/local/lib/python3.7/dist-packages/telegram/ext/updater.py\", line 601, in polling_action_cb\n",
      "    allowed_updates=allowed_updates,\n",
      "  File \"/usr/local/lib/python3.7/dist-packages/telegram/ext/extbot.py\", line 230, in get_updates\n",
      "    api_kwargs=api_kwargs,\n",
      "  File \"/usr/local/lib/python3.7/dist-packages/telegram/bot.py\", line 130, in decorator\n",
      "    result = func(*args, **kwargs)\n",
      "  File \"/usr/local/lib/python3.7/dist-packages/telegram/bot.py\", line 3058, in get_updates\n",
      "    api_kwargs=api_kwargs,\n",
      "  File \"/usr/local/lib/python3.7/dist-packages/telegram/bot.py\", line 296, in _post\n",
      "    f'{self.base_url}/{endpoint}', data=data, timeout=effective_timeout\n",
      "  File \"/usr/local/lib/python3.7/dist-packages/telegram/utils/request.py\", line 366, in post\n",
      "    **urlopen_kwargs,\n",
      "  File \"/usr/local/lib/python3.7/dist-packages/telegram/utils/request.py\", line 283, in _request_wrapper\n",
      "    raise Conflict(message)\n",
      "telegram.error.Conflict: Conflict: terminated by other getUpdates request; make sure that only one bot instance is running\n",
      "2022-01-12 19:07:06,030 - telegram.ext.updater - ERROR - Error while getting Updates: Conflict: terminated by other getUpdates request; make sure that only one bot instance is running\n",
      "2022-01-12 19:07:06,033 - telegram.ext.dispatcher - ERROR - No error handlers are registered, logging exception.\n",
      "Traceback (most recent call last):\n",
      "  File \"/usr/local/lib/python3.7/dist-packages/telegram/ext/updater.py\", line 646, in _network_loop_retry\n",
      "    if not action_cb():\n",
      "  File \"/usr/local/lib/python3.7/dist-packages/telegram/ext/updater.py\", line 601, in polling_action_cb\n",
      "    allowed_updates=allowed_updates,\n",
      "  File \"/usr/local/lib/python3.7/dist-packages/telegram/ext/extbot.py\", line 230, in get_updates\n",
      "    api_kwargs=api_kwargs,\n",
      "  File \"/usr/local/lib/python3.7/dist-packages/telegram/bot.py\", line 130, in decorator\n",
      "    result = func(*args, **kwargs)\n",
      "  File \"/usr/local/lib/python3.7/dist-packages/telegram/bot.py\", line 3058, in get_updates\n",
      "    api_kwargs=api_kwargs,\n",
      "  File \"/usr/local/lib/python3.7/dist-packages/telegram/bot.py\", line 296, in _post\n",
      "    f'{self.base_url}/{endpoint}', data=data, timeout=effective_timeout\n",
      "  File \"/usr/local/lib/python3.7/dist-packages/telegram/utils/request.py\", line 366, in post\n",
      "    **urlopen_kwargs,\n",
      "  File \"/usr/local/lib/python3.7/dist-packages/telegram/utils/request.py\", line 283, in _request_wrapper\n",
      "    raise Conflict(message)\n",
      "telegram.error.Conflict: Conflict: terminated by other getUpdates request; make sure that only one bot instance is running\n",
      "2022-01-12 19:07:40,360 - telegram.ext.updater - ERROR - Error while getting Updates: Conflict: terminated by other getUpdates request; make sure that only one bot instance is running\n",
      "2022-01-12 19:07:40,365 - telegram.ext.dispatcher - ERROR - No error handlers are registered, logging exception.\n",
      "Traceback (most recent call last):\n",
      "  File \"/usr/local/lib/python3.7/dist-packages/telegram/ext/updater.py\", line 646, in _network_loop_retry\n",
      "    if not action_cb():\n",
      "  File \"/usr/local/lib/python3.7/dist-packages/telegram/ext/updater.py\", line 601, in polling_action_cb\n",
      "    allowed_updates=allowed_updates,\n",
      "  File \"/usr/local/lib/python3.7/dist-packages/telegram/ext/extbot.py\", line 230, in get_updates\n",
      "    api_kwargs=api_kwargs,\n",
      "  File \"/usr/local/lib/python3.7/dist-packages/telegram/bot.py\", line 130, in decorator\n",
      "    result = func(*args, **kwargs)\n",
      "  File \"/usr/local/lib/python3.7/dist-packages/telegram/bot.py\", line 3058, in get_updates\n",
      "    api_kwargs=api_kwargs,\n",
      "  File \"/usr/local/lib/python3.7/dist-packages/telegram/bot.py\", line 296, in _post\n",
      "    f'{self.base_url}/{endpoint}', data=data, timeout=effective_timeout\n",
      "  File \"/usr/local/lib/python3.7/dist-packages/telegram/utils/request.py\", line 366, in post\n",
      "    **urlopen_kwargs,\n",
      "  File \"/usr/local/lib/python3.7/dist-packages/telegram/utils/request.py\", line 283, in _request_wrapper\n",
      "    raise Conflict(message)\n",
      "telegram.error.Conflict: Conflict: terminated by other getUpdates request; make sure that only one bot instance is running\n",
      "2022-01-12 19:08:14,694 - telegram.ext.updater - ERROR - Error while getting Updates: Conflict: terminated by other getUpdates request; make sure that only one bot instance is running\n",
      "2022-01-12 19:08:14,696 - telegram.ext.dispatcher - ERROR - No error handlers are registered, logging exception.\n",
      "Traceback (most recent call last):\n",
      "  File \"/usr/local/lib/python3.7/dist-packages/telegram/ext/updater.py\", line 646, in _network_loop_retry\n",
      "    if not action_cb():\n",
      "  File \"/usr/local/lib/python3.7/dist-packages/telegram/ext/updater.py\", line 601, in polling_action_cb\n",
      "    allowed_updates=allowed_updates,\n",
      "  File \"/usr/local/lib/python3.7/dist-packages/telegram/ext/extbot.py\", line 230, in get_updates\n",
      "    api_kwargs=api_kwargs,\n",
      "  File \"/usr/local/lib/python3.7/dist-packages/telegram/bot.py\", line 130, in decorator\n",
      "    result = func(*args, **kwargs)\n",
      "  File \"/usr/local/lib/python3.7/dist-packages/telegram/bot.py\", line 3058, in get_updates\n",
      "    api_kwargs=api_kwargs,\n",
      "  File \"/usr/local/lib/python3.7/dist-packages/telegram/bot.py\", line 296, in _post\n",
      "    f'{self.base_url}/{endpoint}', data=data, timeout=effective_timeout\n",
      "  File \"/usr/local/lib/python3.7/dist-packages/telegram/utils/request.py\", line 366, in post\n",
      "    **urlopen_kwargs,\n",
      "  File \"/usr/local/lib/python3.7/dist-packages/telegram/utils/request.py\", line 283, in _request_wrapper\n",
      "    raise Conflict(message)\n",
      "telegram.error.Conflict: Conflict: terminated by other getUpdates request; make sure that only one bot instance is running\n",
      "2022-01-12 19:08:49,009 - telegram.ext.updater - ERROR - Error while getting Updates: Conflict: terminated by other getUpdates request; make sure that only one bot instance is running\n",
      "2022-01-12 19:08:49,011 - telegram.ext.dispatcher - ERROR - No error handlers are registered, logging exception.\n",
      "Traceback (most recent call last):\n",
      "  File \"/usr/local/lib/python3.7/dist-packages/telegram/ext/updater.py\", line 646, in _network_loop_retry\n",
      "    if not action_cb():\n",
      "  File \"/usr/local/lib/python3.7/dist-packages/telegram/ext/updater.py\", line 601, in polling_action_cb\n",
      "    allowed_updates=allowed_updates,\n",
      "  File \"/usr/local/lib/python3.7/dist-packages/telegram/ext/extbot.py\", line 230, in get_updates\n",
      "    api_kwargs=api_kwargs,\n",
      "  File \"/usr/local/lib/python3.7/dist-packages/telegram/bot.py\", line 130, in decorator\n",
      "    result = func(*args, **kwargs)\n",
      "  File \"/usr/local/lib/python3.7/dist-packages/telegram/bot.py\", line 3058, in get_updates\n",
      "    api_kwargs=api_kwargs,\n",
      "  File \"/usr/local/lib/python3.7/dist-packages/telegram/bot.py\", line 296, in _post\n",
      "    f'{self.base_url}/{endpoint}', data=data, timeout=effective_timeout\n",
      "  File \"/usr/local/lib/python3.7/dist-packages/telegram/utils/request.py\", line 366, in post\n",
      "    **urlopen_kwargs,\n",
      "  File \"/usr/local/lib/python3.7/dist-packages/telegram/utils/request.py\", line 283, in _request_wrapper\n",
      "    raise Conflict(message)\n",
      "telegram.error.Conflict: Conflict: terminated by other getUpdates request; make sure that only one bot instance is running\n",
      "2022-01-12 19:09:23,343 - telegram.ext.updater - ERROR - Error while getting Updates: Conflict: terminated by other getUpdates request; make sure that only one bot instance is running\n",
      "2022-01-12 19:09:23,346 - telegram.ext.dispatcher - ERROR - No error handlers are registered, logging exception.\n",
      "Traceback (most recent call last):\n",
      "  File \"/usr/local/lib/python3.7/dist-packages/telegram/ext/updater.py\", line 646, in _network_loop_retry\n",
      "    if not action_cb():\n",
      "  File \"/usr/local/lib/python3.7/dist-packages/telegram/ext/updater.py\", line 601, in polling_action_cb\n",
      "    allowed_updates=allowed_updates,\n",
      "  File \"/usr/local/lib/python3.7/dist-packages/telegram/ext/extbot.py\", line 230, in get_updates\n",
      "    api_kwargs=api_kwargs,\n",
      "  File \"/usr/local/lib/python3.7/dist-packages/telegram/bot.py\", line 130, in decorator\n",
      "    result = func(*args, **kwargs)\n",
      "  File \"/usr/local/lib/python3.7/dist-packages/telegram/bot.py\", line 3058, in get_updates\n",
      "    api_kwargs=api_kwargs,\n",
      "  File \"/usr/local/lib/python3.7/dist-packages/telegram/bot.py\", line 296, in _post\n",
      "    f'{self.base_url}/{endpoint}', data=data, timeout=effective_timeout\n",
      "  File \"/usr/local/lib/python3.7/dist-packages/telegram/utils/request.py\", line 366, in post\n",
      "    **urlopen_kwargs,\n",
      "  File \"/usr/local/lib/python3.7/dist-packages/telegram/utils/request.py\", line 283, in _request_wrapper\n",
      "    raise Conflict(message)\n",
      "telegram.error.Conflict: Conflict: terminated by other getUpdates request; make sure that only one bot instance is running\n"
     ]
    }
   ],
   "source": [
    "import logging\n",
    "\n",
    "from telegram import Update, ForceReply\n",
    "from telegram.ext import Updater, CommandHandler, MessageHandler, Filters, CallbackContext\n",
    "\n",
    "# Enable logging\n",
    "logging.basicConfig(\n",
    "    format='%(asctime)s - %(name)s - %(levelname)s - %(message)s', level=logging.INFO\n",
    ")\n",
    "\n",
    "logger = logging.getLogger(__name__)\n",
    "\n",
    "\n",
    "# Define a few command handlers. These usually take the two arguments update and\n",
    "# context.\n",
    "def start(update: Update, context: CallbackContext) -> None:\n",
    "    \"\"\"Send a message when the command /start is issued.\"\"\"\n",
    "    user = update.effective_user\n",
    "    update.message.reply_markdown_v2(\n",
    "        fr'Hi {user.mention_markdown_v2()}\\!',\n",
    "        reply_markup=ForceReply(selective=True),\n",
    "    )\n",
    "\n",
    "\n",
    "def help_command(update: Update, context: CallbackContext) -> None:\n",
    "    \"\"\"Send a message when the command /help is issued.\"\"\"\n",
    "    update.message.reply_text('Help!')\n",
    "\n",
    "\n",
    "def echo(update: Update, context: CallbackContext) -> None:\n",
    "    \"\"\"Echo the user message.\"\"\"\n",
    "    input_text = update.message.text\n",
    "    output_text = bot(input_text)\n",
    "    update.message.reply_text(output_text)\n",
    "\n",
    "\n",
    "def main() -> None:\n",
    "    \"\"\"Start the bot.\"\"\"\n",
    "    # Create the Updater and pass it your bot's token.\n",
    "    updater = Updater(\"5010629338:AAGRKszcyoCUF067nljwOiR7YVGaDmBttJo\")\n",
    "\n",
    "    # Get the dispatcher to register handlers\n",
    "    dispatcher = updater.dispatcher\n",
    "\n",
    "    # on different commands - answer in Telegram\n",
    "    dispatcher.add_handler(CommandHandler(\"start\", start))\n",
    "    dispatcher.add_handler(CommandHandler(\"help\", help_command))\n",
    "\n",
    "    # on non command i.e message - echo the message on Telegram\n",
    "    dispatcher.add_handler(MessageHandler(Filters.text & ~Filters.command, echo))\n",
    "\n",
    "    # Start the Bot\n",
    "    updater.start_polling()\n",
    "\n",
    "    # Run the bot until you press Ctrl-C or the process receives SIGINT,\n",
    "    # SIGTERM or SIGABRT. This should be used most of the time, since\n",
    "    # start_polling() is non-blocking and will stop the bot gracefully.\n",
    "    updater.idle()\n",
    "\n",
    "\n",
    "if __name__ == '__main__':\n",
    "    main()"
   ]
  },
  {
   "cell_type": "code",
   "execution_count": null,
   "metadata": {
    "id": "Lk3n-pdjgfPO"
   },
   "outputs": [],
   "source": [
    ""
   ]
  }
 ],
 "metadata": {
  "colab": {
   "name": "ChatBot - Day 3.ipynb",
   "provenance": []
  },
  "kernelspec": {
   "display_name": "Python 3",
   "name": "python3"
  },
  "language_info": {
   "name": "python"
  }
 },
 "nbformat": 4,
 "nbformat_minor": 0
}